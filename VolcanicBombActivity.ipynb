{
 "cells": [
  {
   "cell_type": "markdown",
   "metadata": {},
   "source": [
    "# Volcanic Bomb Activity"
   ]
  },
  {
   "cell_type": "markdown",
   "metadata": {},
   "source": [
<<<<<<< HEAD
    "We consider a model for the trajectory of a volcanic bomb with the following equations"
=======
    "We consider a model for the trajectory of a volcanic bomb with the following equations:\n",
    "$$ \\frac{dx}{dt} = v_x$$\n",
    "$$ \\frac{dz}{dt} = v_z$$\n",
    "$$ \\frac{dv_x}{dt} = -\\frac{\\alpha}{m} v_x$$\n",
    "$$ \\frac{dv_z}{dt} = -g - \\frac{\\alpha}{m} v_z$$\n",
    "\n",
    "and the following initial conditions:\n",
    "$$ x(t=0) = 0$$\n",
    "$$ z(t=0) = 2000$$ m\n",
    "$$ v_x(t=0) = 100 m/s$$\n",
    "$$ v_z(t=0) = 30 m/s$$\n",
    "\n",
    "and these parameters  \n",
    "$\\frac{\\alpha}{m} = 0.1$ s$^{-1}$  \n",
    "$g = 9.8$ m s$^{-2}$"
>>>>>>> fd9d8ba9fe6cbba8c84856c51d88ddf9d8ca378d
   ]
  },
  {
   "cell_type": "markdown",
   "metadata": {},
   "source": [
    "## Import Packages "
   ]
  },
  {
   "cell_type": "code",
<<<<<<< HEAD
   "execution_count": 1,
=======
   "execution_count": 2,
>>>>>>> fd9d8ba9fe6cbba8c84856c51d88ddf9d8ca378d
   "metadata": {},
   "outputs": [],
   "source": [
    "import numpy as np\n",
    "import matplotlib.pyplot as plt"
   ]
  },
  {
   "cell_type": "markdown",
   "metadata": {},
   "source": [
    "## Parameters"
   ]
  },
  {
   "cell_type": "code",
<<<<<<< HEAD
   "execution_count": null,
   "metadata": {},
   "outputs": [],
   "source": []
=======
   "execution_count": 3,
   "metadata": {},
   "outputs": [],
   "source": [
    "alphaoverm = 0.1\n",
    "g = 9.8"
   ]
>>>>>>> fd9d8ba9fe6cbba8c84856c51d88ddf9d8ca378d
  },
  {
   "cell_type": "markdown",
   "metadata": {},
   "source": [
    "## Time steps"
   ]
  },
  {
   "cell_type": "code",
<<<<<<< HEAD
   "execution_count": null,
   "metadata": {},
   "outputs": [],
   "source": []
=======
   "execution_count": 4,
   "metadata": {},
   "outputs": [],
   "source": [
    "dt = 0.1\n",
    "nt = 10000"
   ]
>>>>>>> fd9d8ba9fe6cbba8c84856c51d88ddf9d8ca378d
  },
  {
   "cell_type": "markdown",
   "metadata": {},
   "source": [
    "## Pre-allocation"
   ]
  },
  {
   "cell_type": "code",
<<<<<<< HEAD
   "execution_count": null,
   "metadata": {},
   "outputs": [],
   "source": []
=======
   "execution_count": 5,
   "metadata": {},
   "outputs": [],
   "source": [
    "x = np.zeros(nt)\n",
    "z = np.zeros(nt)\n",
    "vx = np.zeros(nt)\n",
    "vz = np.zeros(nt)"
   ]
>>>>>>> fd9d8ba9fe6cbba8c84856c51d88ddf9d8ca378d
  },
  {
   "cell_type": "markdown",
   "metadata": {},
   "source": [
    "## Initial Conditions"
   ]
  },
  {
   "cell_type": "code",
<<<<<<< HEAD
   "execution_count": null,
   "metadata": {},
   "outputs": [],
   "source": []
=======
   "execution_count": 6,
   "metadata": {},
   "outputs": [],
   "source": [
    "x[0] = 0.\n",
    "z[0] = 2000.\n",
    "vx[0] = 100.\n",
    "vz[0] = 30."
   ]
>>>>>>> fd9d8ba9fe6cbba8c84856c51d88ddf9d8ca378d
  },
  {
   "cell_type": "markdown",
   "metadata": {},
   "source": [
<<<<<<< HEAD
    "## Run Model (Predictor-Corrector)"
=======
    "## Function definitions"
>>>>>>> fd9d8ba9fe6cbba8c84856c51d88ddf9d8ca378d
   ]
  },
  {
   "cell_type": "code",
<<<<<<< HEAD
   "execution_count": null,
   "metadata": {},
   "outputs": [],
   "source": []
=======
   "execution_count": 10,
   "metadata": {},
   "outputs": [],
   "source": [
    "fx = lambda vx: vx #RHS of dx/dt\n",
    "fz = lambda vz: vz #RHS of dz/dt\n",
    "fvx = lambda vx: -alphaoverm*vx #RHS of dv_x/dt\n",
    "fvz = lambda vz: -g - alphaoverm*vz #RHS of dv_x/dt"
   ]
>>>>>>> fd9d8ba9fe6cbba8c84856c51d88ddf9d8ca378d
  },
  {
   "cell_type": "markdown",
   "metadata": {},
   "source": [
<<<<<<< HEAD
    "## Plot Output"
=======
    "## Run Model (Predictor-Corrector)"
>>>>>>> fd9d8ba9fe6cbba8c84856c51d88ddf9d8ca378d
   ]
  },
  {
   "cell_type": "code",
<<<<<<< HEAD
   "execution_count": null,
   "metadata": {},
   "outputs": [],
   "source": []
=======
   "execution_count": 12,
   "metadata": {},
   "outputs": [],
   "source": [
    "for i in np.arange(0,nt-1):\n",
    "    k1_x = fx(vx[i])\n",
    "    k1_z = fz(vz[i])\n",
    "    k1_vx = fvx(vx[i])\n",
    "    k1_vz = fvz(vz[i])\n",
    "    \n",
    "    k2_x = fx(vx[i]+k1_vx*dt)\n",
    "    k2_z = fz(vz[i]+k1_vz*dt)\n",
    "    k2_vx = fvx(vx[i]+k1_vx*dt)\n",
    "    k2_vz = fvz(vz[i]+k1_vz*dt)\n",
    "    \n",
    "    x[i+1] = x[i] + (k1_x+k2_x)*dt/2\n",
    "    z[i+1] = z[i] + (k1_z+k2_z)*dt/2\n",
    "    vx[i+1] = vx[i] + (k1_vx+k2_vx)*dt/2\n",
    "    vz[i+1] = vz[i] + (k1_vz+k2_vz)*dt/2"
   ]
  },
  {
   "cell_type": "markdown",
   "metadata": {},
   "source": [
    "## Plot Output"
   ]
  },
  {
   "cell_type": "code",
   "execution_count": 17,
   "metadata": {},
   "outputs": [
    {
     "data": {
      "text/plain": [
       "Text(0, 0.5, 'z')"
      ]
     },
     "execution_count": 17,
     "metadata": {},
     "output_type": "execute_result"
    },
    {
     "data": {
      "image/png": "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\n",
      "text/plain": [
       "<Figure size 432x288 with 1 Axes>"
      ]
     },
     "metadata": {
      "needs_background": "light"
     },
     "output_type": "display_data"
    }
   ],
   "source": [
    "zair = z > 0\n",
    "plt.plot(x[zair],z[zair],linewidth=4)\n",
    "plt.xlabel('x')\n",
    "plt.ylabel('z')"
   ]
>>>>>>> fd9d8ba9fe6cbba8c84856c51d88ddf9d8ca378d
  }
 ],
 "metadata": {
  "kernelspec": {
   "display_name": "Python 3",
   "language": "python",
   "name": "python3"
  },
  "language_info": {
   "codemirror_mode": {
    "name": "ipython",
    "version": 3
   },
   "file_extension": ".py",
   "mimetype": "text/x-python",
   "name": "python",
   "nbconvert_exporter": "python",
   "pygments_lexer": "ipython3",
<<<<<<< HEAD
   "version": "3.7.3"
=======
   "version": "3.8.8"
>>>>>>> fd9d8ba9fe6cbba8c84856c51d88ddf9d8ca378d
  }
 },
 "nbformat": 4,
 "nbformat_minor": 2
}
